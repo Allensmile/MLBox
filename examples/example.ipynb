{
 "cells": [
  {
   "cell_type": "markdown",
   "metadata": {},
   "source": [
    "# Importing the MLBox"
   ]
  },
  {
   "cell_type": "code",
   "execution_count": 1,
   "metadata": {},
   "outputs": [
    {
     "name": "stderr",
     "output_type": "stream",
     "text": [
      "/home/datageek/anaconda2/lib/python2.7/site-packages/sklearn/cross_validation.py:43: DeprecationWarning: This module was deprecated in version 0.18 in favor of the model_selection module into which all the refactored classes and functions are moved. Also note that the interface of the new CV iterators are different from that of this module. This module will be removed in 0.20.\n",
      "  \"This module will be removed in 0.20.\", DeprecationWarning)\n",
      "/home/datageek/anaconda2/lib/python2.7/site-packages/databox/preprocessing/drift/__init__.py:9: UserWarning: ipCluster is starting. Please wait 30 sec and check in terminal that 'the engines appear to have started successfully'. For more information on the ipCluster setting, please read the file 'install.txt' of this package.\n",
      "  warnings.warn(\"ipCluster is starting. Please wait 30 sec and check in terminal that 'the engines appear to have started successfully'. For more information on the ipCluster setting, please read the file 'install.txt' of this package.\")\n",
      "Using Theano backend.\n"
     ]
    }
   ],
   "source": [
    "from mlbox.preprocessing import *\n",
    "from mlbox.optimisation import *\n",
    "from mlbox.prediction import *"
   ]
  },
  {
   "cell_type": "code",
   "execution_count": 2,
   "metadata": {
    "collapsed": true
   },
   "outputs": [],
   "source": [
    "sep = ','\n",
    "paths = [\"train.csv\",\"test.csv\"]\n",
    "target_name=\"Survived\"\n",
    "\n",
    "scoring = 'accuracy'\n",
    "n_folds=3"
   ]
  },
  {
   "cell_type": "markdown",
   "metadata": {},
   "source": [
    "# reading and cleaning all files "
   ]
  },
  {
   "cell_type": "code",
   "execution_count": 3,
   "metadata": {
    "scrolled": true
   },
   "outputs": [
    {
     "name": "stdout",
     "output_type": "stream",
     "text": [
      "\n",
      "reading csv : train.csv ...\n",
      "cleaning data...\n",
      "CPU time: 50.7687239647 seconds\n",
      "\n",
      "reading csv : test.csv ...\n",
      "cleaning data...\n",
      "CPU time: 0.369373083115 seconds\n",
      "\n",
      "number of common features :  11\n",
      "\n",
      "gathering and crunching for train and test datasets\n",
      "reindexing for train and test datasets\n",
      "dropping training duplicates\n",
      "dropping constant variables on training set\n",
      "\n",
      "number of categorical features :  5\n",
      "number of numerical features :  6\n",
      "number of training samples :  891\n",
      "number of test samples :  418\n",
      "\n",
      "task :  classification\n",
      "0.0    549\n",
      "1.0    342\n",
      "Name: Survived, dtype: int64\n",
      "encoding target\n"
     ]
    }
   ],
   "source": [
    "rd = Reader(sep)\n",
    "df = rd.train_test_split(paths, target_name)"
   ]
  },
  {
   "cell_type": "code",
   "execution_count": 4,
   "metadata": {
    "scrolled": false
   },
   "outputs": [
    {
     "name": "stdout",
     "output_type": "stream",
     "text": [
      "\n",
      "computing drifts...\n",
      "CPU time: 0.936506986618 seconds\n",
      "\n",
      "Top 10 drifts\n",
      "\n",
      "('PassengerId', 1.0)\n",
      "('Name', 0.99704442935827498)\n",
      "('Ticket', 0.84579063327276627)\n",
      "('Cabin', 0.59550700418006364)\n",
      "('Embarked', 0.53834737054254522)\n",
      "('SibSp', 0.52134352316754273)\n",
      "('Fare', 0.51744001298932041)\n",
      "('Sex', 0.51694417436933204)\n",
      "('Pclass', 0.51382143975575834)\n",
      "('Parch', 0.50992009325888499)\n",
      "\n",
      "deleted variables :  ['Name', 'PassengerId', 'Ticket']\n",
      "\n",
      "dumping drift coefficients into directory : save\n",
      "drift coefficients dumped\n"
     ]
    }
   ],
   "source": [
    "dft = Drift_thresholder()\n",
    "df = dft.fit_transform(df)"
   ]
  },
  {
   "cell_type": "markdown",
   "metadata": {},
   "source": [
    "# tuning"
   ]
  },
  {
   "cell_type": "code",
   "execution_count": 10,
   "metadata": {
    "collapsed": true
   },
   "outputs": [],
   "source": [
    "opt = Optimiser(scoring, n_folds)"
   ]
  },
  {
   "cell_type": "code",
   "execution_count": 11,
   "metadata": {
    "scrolled": true
   },
   "outputs": [
    {
     "name": "stdout",
     "output_type": "stream",
     "text": [
      "No parameters set. Defaut configuration is tested\n",
      "\n",
      "########################################################## testing hyper-parameters... #################################################################\n",
      "\n",
      ">>> NA ENCODER : {'numerical_strategy': 'mean', 'categorical_strategy': '<NULL>'}\n",
      "\n",
      ">>> CA ENCODER : {'strategy': 'label_encoding'}\n",
      "\n",
      ">>> ESTIMATOR : {'sigmoid': 1.0, 'seed': 0, 'max_drop': 50, 'min_split_gain': 0, 'boosting_type': 'gbdt', 'silent': True, 'min_child_samples': 10, 'nthread': -1, 'min_child_weight': 5, 'strategy': 'LightGBM', 'max_bin': 255, 'uniform_drop': False, 'max_depth': -1, 'skip_drop': 0.5, 'num_leaves': 31, 'reg_alpha': 0, 'subsample_for_bin': 50000, 'scale_pos_weight': 1, 'learning_rate': 0.05, 'n_estimators': 500, 'objective': 'binary', 'colsample_bytree': 0.8, 'subsample_freq': 1, 'xgboost_dart_mode': False, 'subsample': 0.9, 'reg_lambda': 0, 'drop_rate': 0.1, 'is_unbalance': False}\n",
      "\n",
      "\n",
      "MEAN SCORE :  roc_auc  =  0.866703416099\n",
      "VARIANCE :  0.024505950877  (fold 1 = 0.869211964337, fold 2 = 0.895383951682, fold 3 = 0.835514332279)\n",
      "CPU time: 1.49182200432 seconds\n",
      "\n"
     ]
    },
    {
     "data": {
      "text/plain": [
       "0.86670341609944712"
      ]
     },
     "execution_count": 11,
     "metadata": {},
     "output_type": "execute_result"
    }
   ],
   "source": [
    "opt.evaluate(None, df)"
   ]
  },
  {
   "cell_type": "code",
   "execution_count": 7,
   "metadata": {
    "scrolled": true
   },
   "outputs": [
    {
     "name": "stderr",
     "output_type": "stream",
     "text": [
      "/home/datageek/anaconda2/lib/python2.7/site-packages/databox/model/supervised/classification/classifier.py:80: UserWarning: Invalid parameter for classifier LightGBM. Parameter IGNORED. Check the list of available parameters with `classifier.get_params().keys()`\n",
      "  warnings.warn(\"Invalid parameter for classifier \"+str(self.__strategy)+\". Parameter IGNORED. Check the list of available parameters with `classifier.get_params().keys()`\")\n"
     ]
    },
    {
     "name": "stdout",
     "output_type": "stream",
     "text": [
      "\n",
      "########################################################## testing hyper-parameters... #################################################################\n",
      "\n",
      ">>> NA ENCODER : {'numerical_strategy': 0, 'categorical_strategy': '<NULL>'}\n",
      "\n",
      ">>> CA ENCODER : {'strategy': 'label_encoding'}\n",
      "\n",
      ">>> FEATURE SELECTOR : {'threshold': 0.0754810040891663, 'strategy': 'l1'}\n",
      "\n",
      ">>> ESTIMATOR : {'sigmoid': 1.0, 'seed': 0, 'max_drop': 50, 'min_split_gain': 0, 'boosting_type': 'gbdt', 'silent': True, 'min_child_samples': 10, 'nthread': -1, 'min_child_weight': 5, 'strategy': 'LightGBM', 'max_bin': 255, 'uniform_drop': False, 'max_depth': -1, 'skip_drop': 0.5, 'num_leaves': 31, 'reg_alpha': 0, 'subsample_for_bin': 50000, 'scale_pos_weight': 1, 'learning_rate': 0.05, 'n_estimators': 500, 'objective': 'binary', 'colsample_bytree': 0.8, 'subsample_freq': 1, 'xgboost_dart_mode': False, 'subsample': 0.9, 'reg_lambda': 0, 'drop_rate': 0.1, 'is_unbalance': False}\n",
      "\n",
      "\n",
      "MEAN SCORE :  accuracy  =  0.802469135802\n",
      "VARIANCE :  0.018713054995  (fold 1 = 0.794612794613, fold 2 = 0.828282828283, fold 3 = 0.784511784512)\n",
      "CPU time: 6.34956479073 seconds\n",
      "\n",
      "\n",
      "########################################################## testing hyper-parameters... #################################################################\n",
      "\n",
      ">>> NA ENCODER : {'numerical_strategy': 0, 'categorical_strategy': '<NULL>'}\n",
      "\n",
      ">>> CA ENCODER : {'strategy': 'label_encoding'}\n",
      "\n",
      ">>> FEATURE SELECTOR : {'threshold': 0.22235760302134444, 'strategy': 'l1'}\n",
      "\n",
      ">>> ESTIMATOR : {'sigmoid': 1.0, 'seed': 0, 'max_drop': 50, 'min_split_gain': 0, 'boosting_type': 'gbdt', 'silent': True, 'min_child_samples': 10, 'nthread': -1, 'min_child_weight': 5, 'strategy': 'LightGBM', 'max_bin': 255, 'uniform_drop': False, 'max_depth': -1, 'skip_drop': 0.5, 'num_leaves': 31, 'reg_alpha': 0, 'subsample_for_bin': 50000, 'scale_pos_weight': 1, 'learning_rate': 0.05, 'n_estimators': 500, 'objective': 'binary', 'colsample_bytree': 0.8, 'subsample_freq': 1, 'xgboost_dart_mode': False, 'subsample': 0.9, 'reg_lambda': 0, 'drop_rate': 0.1, 'is_unbalance': False}\n",
      "\n",
      "\n",
      "MEAN SCORE :  accuracy  =  0.802469135802\n",
      "VARIANCE :  0.018713054995  (fold 1 = 0.794612794613, fold 2 = 0.828282828283, fold 3 = 0.784511784512)\n",
      "CPU time: 3.99958491325 seconds\n",
      "\n",
      "\n",
      "########################################################## testing hyper-parameters... #################################################################\n",
      "\n",
      ">>> NA ENCODER : {'numerical_strategy': 'mean', 'categorical_strategy': '<NULL>'}\n",
      "\n",
      ">>> CA ENCODER : {'strategy': 'label_encoding'}\n",
      "\n",
      ">>> FEATURE SELECTOR : {'threshold': 0.26290682763452744, 'strategy': 'l1'}\n",
      "\n",
      ">>> ESTIMATOR : {'sigmoid': 1.0, 'seed': 0, 'max_drop': 50, 'min_split_gain': 0, 'boosting_type': 'gbdt', 'silent': True, 'min_child_samples': 10, 'nthread': -1, 'min_child_weight': 5, 'strategy': 'LightGBM', 'max_bin': 255, 'uniform_drop': False, 'max_depth': -1, 'skip_drop': 0.5, 'num_leaves': 31, 'reg_alpha': 0, 'subsample_for_bin': 50000, 'scale_pos_weight': 1, 'learning_rate': 0.05, 'n_estimators': 500, 'objective': 'binary', 'colsample_bytree': 0.8, 'subsample_freq': 1, 'xgboost_dart_mode': False, 'subsample': 0.9, 'reg_lambda': 0, 'drop_rate': 0.1, 'is_unbalance': False}\n",
      "\n",
      "\n",
      "MEAN SCORE :  accuracy  =  0.809203142536\n",
      "VARIANCE :  0.0195040933748  (fold 1 = 0.804713804714, fold 2 = 0.835016835017, fold 3 = 0.787878787879)\n",
      "CPU time: 3.5650498867 seconds\n",
      "\n",
      "\n",
      "\n",
      "~~~~~~~~~~~~~~~~~~~~~~~~~~~~~~~~~~~~~~~~~~~~~~~~~~~~~~~~~~~~~~~~~~~~~~~~~~~~~~~~~~~~~~~~~~~~~~~~~~~~~~~~~~~~~~~~~~~~~~~~~~~~~~~~~~~~~~~~~~~~~~~~~~~\n",
      "~~~~~~~~~~~~~~~~~~~~~~~~~~~~~~~~~~~~~~~~~~~~~~~~~~~~~~~~~~~~~ BEST HYPER-PARAMETERS ~~~~~~~~~~~~~~~~~~~~~~~~~~~~~~~~~~~~~~~~~~~~~~~~~~~~~~~~~~~~~~~\n",
      "~~~~~~~~~~~~~~~~~~~~~~~~~~~~~~~~~~~~~~~~~~~~~~~~~~~~~~~~~~~~~~~~~~~~~~~~~~~~~~~~~~~~~~~~~~~~~~~~~~~~~~~~~~~~~~~~~~~~~~~~~~~~~~~~~~~~~~~~~~~~~~~~~~~\n",
      "\n",
      "{'fs__threshold': 0.26290682763452744, 'est__colsample_bylevel': 0.638899813618233, 'ce__strategy': 'label_encoding', 'ne__numerical_strategy': 'mean'}\n"
     ]
    }
   ],
   "source": [
    "space = {\n",
    "    \n",
    "        'ne__numerical_strategy':{\"search\":\"choice\",\n",
    "                                 \"space\":[\"mean\",0]},\n",
    "        'ce__strategy':{\"search\":\"choice\",\n",
    "                        \"space\":[\"label_encoding\",\"random_projection\"]}, \n",
    "        'fs__threshold':{\"search\":\"uniform\",\n",
    "                        \"space\":[0.01,0.3]},    \n",
    "        'est__colsample_bylevel':{\"search\":\"uniform\",\n",
    "                                  \"space\":[0.3,0.7]}\n",
    "    \n",
    "        }\n",
    "\n",
    "best = opt.optimise(space, df,3)"
   ]
  },
  {
   "cell_type": "code",
   "execution_count": 13,
   "metadata": {},
   "outputs": [
    {
     "name": "stdout",
     "output_type": "stream",
     "text": [
      "\n",
      "No parameters set. Defaut configuration is tested\n",
      "\n",
      "fitting the pipeline...\n",
      "pipeline dumped into directory : save/joblib\n",
      "CPU time: 1.22438097 seconds\n",
      "\n",
      "predicting...\n",
      "CPU time: 0.114058017731 seconds\n",
      "\n",
      "top 10 predictions :\n",
      "\n",
      "        0.0       1.0  Survived_predicted\n",
      "0  0.950160  0.049840                   0\n",
      "1  0.862099  0.137901                   0\n",
      "2  0.937391  0.062609                   0\n",
      "3  0.610432  0.389568                   0\n",
      "4  0.753652  0.246348                   0\n",
      "5  0.655973  0.344027                   0\n",
      "6  0.709572  0.290428                   0\n",
      "7  0.977180  0.022820                   0\n",
      "8  0.144067  0.855933                   1\n",
      "9  0.992767  0.007233                   0\n",
      "\n",
      "dumping predictions into directory : save\n"
     ]
    },
    {
     "data": {
      "text/plain": [
       "<databox.prediction.predictor.Predictor instance at 0x7f1d7b3f2ea8>"
      ]
     },
     "execution_count": 13,
     "metadata": {},
     "output_type": "execute_result"
    }
   ],
   "source": [
    "prd = Predictor()\n",
    "prd.fit_predict(None,df)"
   ]
  },
  {
   "cell_type": "code",
   "execution_count": null,
   "metadata": {
    "collapsed": true
   },
   "outputs": [],
   "source": []
  }
 ],
 "metadata": {
  "kernelspec": {
   "display_name": "Python 2",
   "language": "python",
   "name": "python2"
  },
  "language_info": {
   "codemirror_mode": {
    "name": "ipython",
    "version": 2
   },
   "file_extension": ".py",
   "mimetype": "text/x-python",
   "name": "python",
   "nbconvert_exporter": "python",
   "pygments_lexer": "ipython2",
   "version": "2.7.11"
  }
 },
 "nbformat": 4,
 "nbformat_minor": 1
}
